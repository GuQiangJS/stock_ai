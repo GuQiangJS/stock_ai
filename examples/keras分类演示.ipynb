{
 "cells": [
  {
   "cell_type": "markdown",
   "metadata": {},
   "source": [
    "#### Keras 分类测试"
   ]
  },
  {
   "cell_type": "code",
   "execution_count": 1,
   "metadata": {
    "ExecuteTime": {
     "end_time": "2019-07-30T02:33:54.084352Z",
     "start_time": "2019-07-30T02:33:49.389978Z"
    }
   },
   "outputs": [
    {
     "name": "stderr",
     "output_type": "stream",
     "text": [
      "Using TensorFlow backend.\n"
     ]
    },
    {
     "name": "stdout",
     "output_type": "stream",
     "text": [
      "PLEASE install TALIB to call these methods\n",
      "PLEASE install TALIB to call these methods\n"
     ]
    }
   ],
   "source": [
    "import sys\n",
    "sys.path.append(\"..\")\n",
    "\n",
    "import keras\n",
    "from keras.models import Sequential\n",
    "from keras.layers import Dense, Dropout, Activation, LSTM\n",
    "from stock_ai import ploter\n",
    "from examples import get_data_classification"
   ]
  },
  {
   "cell_type": "markdown",
   "metadata": {},
   "source": [
    "##### 获取数据\n",
    "\n",
    "完整数据为601398日线数据+399300日线数据\n",
    "\n",
    "默认取 5 天的数据作为输入数据。第 6 天的数据为结果数据。以此类推。采用 `TimeseriesGenerator`"
   ]
  },
  {
   "cell_type": "code",
   "execution_count": 2,
   "metadata": {
    "ExecuteTime": {
     "end_time": "2019-07-30T02:33:54.601925Z",
     "start_time": "2019-07-30T02:33:54.087302Z"
    }
   },
   "outputs": [
    {
     "name": "stdout",
     "output_type": "stream",
     "text": [
      "(2679, 5, 12) x_train sequences\n",
      "(2679, 22) y_train sequences\n",
      "(298, 5, 12) x_test sequences\n",
      "(298, 22) y_test sequences\n"
     ]
    }
   ],
   "source": [
    "(x_train, y_train), (x_test, y_test) = get_data_classification()\n",
    "\n",
    "print(x_train.shape, 'x_train sequences')\n",
    "print(y_train.shape, 'y_train sequences')\n",
    "print(x_test.shape, 'x_test sequences')\n",
    "print(y_test.shape, 'y_test sequences')"
   ]
  },
  {
   "cell_type": "markdown",
   "metadata": {},
   "source": [
    "`x`为所有数据（标准化后）\n",
    "\n",
    "标准化采用的是`sklearn.preprocessing.MinMaxScaler`"
   ]
  },
  {
   "cell_type": "code",
   "execution_count": 3,
   "metadata": {
    "ExecuteTime": {
     "end_time": "2019-07-30T02:33:54.611898Z",
     "start_time": "2019-07-30T02:33:54.603920Z"
    }
   },
   "outputs": [
    {
     "data": {
      "text/plain": [
       "array([[0.44019139, 0.41416497, 0.1384064 , 0.        , 0.29193075,\n",
       "        0.33208375, 1.        , 1.        , 0.33333333, 0.        ,\n",
       "        1.        , 1.        ],\n",
       "       [0.        , 0.        , 0.        , 0.17704999, 0.        ,\n",
       "        0.        , 0.        , 0.14285714, 0.        , 0.5       ,\n",
       "        0.0894123 , 0.08637297],\n",
       "       [0.23695603, 0.53162343, 0.51640474, 0.6259542 , 0.23137238,\n",
       "        0.32541408, 0.07692308, 0.21428571, 1.        , 1.        ,\n",
       "        0.03969298, 0.03906662],\n",
       "       [0.66097061, 0.96677354, 0.90956714, 0.99384388, 0.51136444,\n",
       "        0.74617964, 0.23076923, 0.07142857, 1.        , 1.        ,\n",
       "        0.        , 0.        ],\n",
       "       [1.        , 1.        , 1.        , 1.        , 1.        ,\n",
       "        1.        , 0.23076923, 0.        , 0.        , 0.        ,\n",
       "        0.01725269, 0.01642542]])"
      ]
     },
     "execution_count": 3,
     "metadata": {},
     "output_type": "execute_result"
    }
   ],
   "source": [
    "x_train[0]"
   ]
  },
  {
   "cell_type": "markdown",
   "metadata": {},
   "source": [
    "`y`为601398的close.pct_change()后的数据（onehot编码后）\n",
    "\n",
    "onehot编码采用`sklearn.preprocessing.OneHotEncoder`"
   ]
  },
  {
   "cell_type": "code",
   "execution_count": 4,
   "metadata": {
    "ExecuteTime": {
     "end_time": "2019-07-30T02:33:54.625864Z",
     "start_time": "2019-07-30T02:33:54.614891Z"
    }
   },
   "outputs": [
    {
     "data": {
      "text/plain": [
       "array([0., 0., 0., 0., 0., 0., 0., 0., 0., 0., 0., 0., 0., 1., 0., 0., 0.,\n",
       "       0., 0., 0., 0., 0.])"
      ]
     },
     "execution_count": 4,
     "metadata": {},
     "output_type": "execute_result"
    }
   ],
   "source": [
    "y_train[0]"
   ]
  },
  {
   "cell_type": "code",
   "execution_count": 5,
   "metadata": {
    "ExecuteTime": {
     "end_time": "2019-07-30T02:33:54.636831Z",
     "start_time": "2019-07-30T02:33:54.628870Z"
    }
   },
   "outputs": [],
   "source": [
    "def build_model():\n",
    "    print('Building model...')\n",
    "    model = Sequential()\n",
    "    model.add(LSTM(512, input_shape=x_train[0].shape))\n",
    "    model.add(Activation('relu'))\n",
    "    model.add(Dropout(0.5))\n",
    "    model.add(Dense(num_classes))\n",
    "    model.add(Activation('softmax'))\n",
    "\n",
    "    model.compile(loss='categorical_crossentropy',\n",
    "                  optimizer='adam',\n",
    "                  metrics=['accuracy'])\n",
    "    return model"
   ]
  },
  {
   "cell_type": "code",
   "execution_count": 6,
   "metadata": {
    "ExecuteTime": {
     "end_time": "2019-07-30T02:37:32.723180Z",
     "start_time": "2019-07-30T02:33:54.638842Z"
    }
   },
   "outputs": [
    {
     "name": "stdout",
     "output_type": "stream",
     "text": [
      "Building model...\n",
      "WARNING:tensorflow:From C:\\Users\\GuQiang\\Anaconda3\\envs\\stock_ai\\lib\\site-packages\\tensorflow\\python\\framework\\op_def_library.py:263: colocate_with (from tensorflow.python.framework.ops) is deprecated and will be removed in a future version.\n",
      "Instructions for updating:\n",
      "Colocations handled automatically by placer.\n"
     ]
    },
    {
     "name": "stderr",
     "output_type": "stream",
     "text": [
      "QUANTAXIS>> From C:\\Users\\GuQiang\\Anaconda3\\envs\\stock_ai\\lib\\site-packages\\tensorflow\\python\\framework\\op_def_library.py:263: colocate_with (from tensorflow.python.framework.ops) is deprecated and will be removed in a future version.\n",
      "Instructions for updating:\n",
      "Colocations handled automatically by placer.\n"
     ]
    },
    {
     "name": "stdout",
     "output_type": "stream",
     "text": [
      "WARNING:tensorflow:From C:\\Users\\GuQiang\\Anaconda3\\envs\\stock_ai\\lib\\site-packages\\keras\\backend\\tensorflow_backend.py:3445: calling dropout (from tensorflow.python.ops.nn_ops) with keep_prob is deprecated and will be removed in a future version.\n",
      "Instructions for updating:\n",
      "Please use `rate` instead of `keep_prob`. Rate should be set to `rate = 1 - keep_prob`.\n"
     ]
    },
    {
     "name": "stderr",
     "output_type": "stream",
     "text": [
      "QUANTAXIS>> From C:\\Users\\GuQiang\\Anaconda3\\envs\\stock_ai\\lib\\site-packages\\keras\\backend\\tensorflow_backend.py:3445: calling dropout (from tensorflow.python.ops.nn_ops) with keep_prob is deprecated and will be removed in a future version.\n",
      "Instructions for updating:\n",
      "Please use `rate` instead of `keep_prob`. Rate should be set to `rate = 1 - keep_prob`.\n"
     ]
    },
    {
     "name": "stdout",
     "output_type": "stream",
     "text": [
      "WARNING:tensorflow:From C:\\Users\\GuQiang\\Anaconda3\\envs\\stock_ai\\lib\\site-packages\\tensorflow\\python\\ops\\math_ops.py:3066: to_int32 (from tensorflow.python.ops.math_ops) is deprecated and will be removed in a future version.\n",
      "Instructions for updating:\n",
      "Use tf.cast instead.\n"
     ]
    },
    {
     "name": "stderr",
     "output_type": "stream",
     "text": [
      "QUANTAXIS>> From C:\\Users\\GuQiang\\Anaconda3\\envs\\stock_ai\\lib\\site-packages\\tensorflow\\python\\ops\\math_ops.py:3066: to_int32 (from tensorflow.python.ops.math_ops) is deprecated and will be removed in a future version.\n",
      "Instructions for updating:\n",
      "Use tf.cast instead.\n"
     ]
    },
    {
     "name": "stdout",
     "output_type": "stream",
     "text": [
      "Train on 2411 samples, validate on 268 samples\n",
      "Epoch 1/50\n",
      " - 5s - loss: 2.0706 - acc: 0.3401 - val_loss: 1.5315 - val_acc: 0.5448\n",
      "Epoch 2/50\n",
      " - 4s - loss: 1.9322 - acc: 0.3550 - val_loss: 1.5006 - val_acc: 0.5448\n",
      "Epoch 3/50\n",
      " - 4s - loss: 1.9233 - acc: 0.3633 - val_loss: 1.5529 - val_acc: 0.5448\n",
      "Epoch 4/50\n",
      " - 4s - loss: 1.9138 - acc: 0.3600 - val_loss: 1.4765 - val_acc: 0.5448\n",
      "Epoch 5/50\n",
      " - 4s - loss: 1.9158 - acc: 0.3658 - val_loss: 1.4842 - val_acc: 0.5448\n",
      "Epoch 6/50\n",
      " - 4s - loss: 1.9108 - acc: 0.3658 - val_loss: 1.4448 - val_acc: 0.5448\n",
      "Epoch 7/50\n",
      " - 4s - loss: 1.9101 - acc: 0.3633 - val_loss: 1.4789 - val_acc: 0.5448\n",
      "Epoch 8/50\n",
      " - 4s - loss: 1.9104 - acc: 0.3642 - val_loss: 1.5381 - val_acc: 0.5448\n",
      "Epoch 9/50\n",
      " - 4s - loss: 1.9010 - acc: 0.3662 - val_loss: 1.4588 - val_acc: 0.5448\n",
      "Epoch 10/50\n",
      " - 4s - loss: 1.9043 - acc: 0.3662 - val_loss: 1.4663 - val_acc: 0.5448\n",
      "Epoch 11/50\n",
      " - 4s - loss: 1.9082 - acc: 0.3654 - val_loss: 1.4978 - val_acc: 0.5448\n",
      "Epoch 12/50\n",
      " - 4s - loss: 1.9014 - acc: 0.3658 - val_loss: 1.5235 - val_acc: 0.5448\n",
      "Epoch 13/50\n",
      " - 4s - loss: 1.8981 - acc: 0.3662 - val_loss: 1.4609 - val_acc: 0.5448\n",
      "Epoch 14/50\n",
      " - 4s - loss: 1.9047 - acc: 0.3662 - val_loss: 1.4929 - val_acc: 0.5448\n",
      "Epoch 15/50\n",
      " - 4s - loss: 1.9005 - acc: 0.3662 - val_loss: 1.4563 - val_acc: 0.5448\n",
      "Epoch 16/50\n",
      " - 4s - loss: 1.9022 - acc: 0.3658 - val_loss: 1.4965 - val_acc: 0.5448\n",
      "Epoch 17/50\n",
      " - 4s - loss: 1.9037 - acc: 0.3662 - val_loss: 1.4659 - val_acc: 0.5448\n",
      "Epoch 18/50\n",
      " - 4s - loss: 1.8936 - acc: 0.3662 - val_loss: 1.4573 - val_acc: 0.5448\n",
      "Epoch 19/50\n",
      " - 4s - loss: 1.9015 - acc: 0.3667 - val_loss: 1.4613 - val_acc: 0.5448\n",
      "Epoch 20/50\n",
      " - 4s - loss: 1.9004 - acc: 0.3662 - val_loss: 1.4324 - val_acc: 0.5448\n",
      "Epoch 21/50\n",
      " - 4s - loss: 1.9002 - acc: 0.3662 - val_loss: 1.4859 - val_acc: 0.5448\n",
      "Epoch 22/50\n",
      " - 4s - loss: 1.8987 - acc: 0.3662 - val_loss: 1.4763 - val_acc: 0.5448\n",
      "Epoch 23/50\n",
      " - 4s - loss: 1.8914 - acc: 0.3662 - val_loss: 1.5035 - val_acc: 0.5448\n",
      "Epoch 24/50\n",
      " - 4s - loss: 1.8875 - acc: 0.3667 - val_loss: 1.4607 - val_acc: 0.5448\n",
      "Epoch 25/50\n",
      " - 4s - loss: 1.8870 - acc: 0.3654 - val_loss: 1.4326 - val_acc: 0.5448\n",
      "Epoch 26/50\n",
      " - 4s - loss: 1.8799 - acc: 0.3671 - val_loss: 1.4281 - val_acc: 0.5448\n",
      "Epoch 27/50\n",
      " - 4s - loss: 1.8821 - acc: 0.3662 - val_loss: 1.4510 - val_acc: 0.5448\n",
      "Epoch 28/50\n",
      " - 4s - loss: 1.8900 - acc: 0.3629 - val_loss: 1.4261 - val_acc: 0.5448\n",
      "Epoch 29/50\n",
      " - 4s - loss: 1.8796 - acc: 0.3658 - val_loss: 1.4116 - val_acc: 0.5448\n",
      "Epoch 30/50\n",
      " - 4s - loss: 1.8838 - acc: 0.3658 - val_loss: 1.4516 - val_acc: 0.5448\n",
      "Epoch 31/50\n",
      " - 4s - loss: 1.8760 - acc: 0.3667 - val_loss: 1.4795 - val_acc: 0.5448\n",
      "Epoch 32/50\n",
      " - 4s - loss: 1.8768 - acc: 0.3633 - val_loss: 1.4226 - val_acc: 0.5448\n",
      "Epoch 33/50\n",
      " - 4s - loss: 1.8675 - acc: 0.3675 - val_loss: 1.4480 - val_acc: 0.5485\n",
      "Epoch 34/50\n",
      " - 4s - loss: 1.8694 - acc: 0.3675 - val_loss: 1.4166 - val_acc: 0.5448\n",
      "Epoch 35/50\n",
      " - 4s - loss: 1.8639 - acc: 0.3691 - val_loss: 1.4241 - val_acc: 0.5485\n",
      "Epoch 36/50\n",
      " - 4s - loss: 1.8631 - acc: 0.3662 - val_loss: 1.4533 - val_acc: 0.5448\n",
      "Epoch 37/50\n",
      " - 4s - loss: 1.8521 - acc: 0.3729 - val_loss: 1.4218 - val_acc: 0.5560\n",
      "Epoch 38/50\n",
      " - 4s - loss: 1.8545 - acc: 0.3729 - val_loss: 1.4245 - val_acc: 0.5560\n",
      "Epoch 39/50\n",
      " - 4s - loss: 1.8380 - acc: 0.3691 - val_loss: 1.4839 - val_acc: 0.5224\n",
      "Epoch 40/50\n",
      " - 4s - loss: 1.8353 - acc: 0.3737 - val_loss: 1.4233 - val_acc: 0.5522\n",
      "Epoch 41/50\n",
      " - 4s - loss: 1.8237 - acc: 0.3687 - val_loss: 1.4690 - val_acc: 0.5336\n",
      "Epoch 42/50\n",
      " - 4s - loss: 1.8230 - acc: 0.3766 - val_loss: 1.4694 - val_acc: 0.5299\n",
      "Epoch 43/50\n",
      " - 4s - loss: 1.8123 - acc: 0.3770 - val_loss: 1.4782 - val_acc: 0.5075\n",
      "Epoch 44/50\n",
      " - 4s - loss: 1.7949 - acc: 0.3770 - val_loss: 1.4493 - val_acc: 0.5261\n",
      "Epoch 45/50\n",
      " - 4s - loss: 1.7952 - acc: 0.3749 - val_loss: 1.4504 - val_acc: 0.5187\n",
      "Epoch 46/50\n",
      " - 4s - loss: 1.7676 - acc: 0.3928 - val_loss: 1.4883 - val_acc: 0.5187\n",
      "Epoch 47/50\n",
      " - 4s - loss: 1.7619 - acc: 0.3828 - val_loss: 1.4751 - val_acc: 0.5112\n",
      "Epoch 48/50\n",
      " - 4s - loss: 1.7433 - acc: 0.3861 - val_loss: 1.4507 - val_acc: 0.5224\n",
      "Epoch 49/50\n",
      " - 4s - loss: 1.7325 - acc: 0.3924 - val_loss: 1.4618 - val_acc: 0.5112\n",
      "Epoch 50/50\n",
      " - 4s - loss: 1.6985 - acc: 0.3953 - val_loss: 1.5031 - val_acc: 0.5112\n"
     ]
    }
   ],
   "source": [
    "batch_size = 32\n",
    "epochs = 50\n",
    "num_classes = y_train.shape[1]\n",
    "\n",
    "model=build_model()\n",
    "\n",
    "history = model.fit(x_train,\n",
    "                    y_train,\n",
    "                    batch_size=batch_size,\n",
    "                    epochs=epochs,\n",
    "                    verbose=2,\n",
    "                    validation_split=0.1)"
   ]
  },
  {
   "cell_type": "code",
   "execution_count": 7,
   "metadata": {
    "ExecuteTime": {
     "end_time": "2019-07-30T02:37:32.755095Z",
     "start_time": "2019-07-30T02:37:32.725175Z"
    }
   },
   "outputs": [
    {
     "name": "stdout",
     "output_type": "stream",
     "text": [
      "_________________________________________________________________\n",
      "Layer (type)                 Output Shape              Param #   \n",
      "=================================================================\n",
      "lstm_1 (LSTM)                (None, 512)               1075200   \n",
      "_________________________________________________________________\n",
      "activation_1 (Activation)    (None, 512)               0         \n",
      "_________________________________________________________________\n",
      "dropout_1 (Dropout)          (None, 512)               0         \n",
      "_________________________________________________________________\n",
      "dense_1 (Dense)              (None, 22)                11286     \n",
      "_________________________________________________________________\n",
      "activation_2 (Activation)    (None, 22)                0         \n",
      "=================================================================\n",
      "Total params: 1,086,486\n",
      "Trainable params: 1,086,486\n",
      "Non-trainable params: 0\n",
      "_________________________________________________________________\n"
     ]
    }
   ],
   "source": [
    "keras.utils.print_summary(model)"
   ]
  },
  {
   "cell_type": "code",
   "execution_count": 8,
   "metadata": {
    "ExecuteTime": {
     "end_time": "2019-07-30T02:37:33.174159Z",
     "start_time": "2019-07-30T02:37:32.757090Z"
    }
   },
   "outputs": [
    {
     "data": {
      "image/png": "[encoded data removed]",
      "text/plain": [
       "<Figure size 720x720 with 2 Axes>"
      ]
     },
     "metadata": {
      "needs_background": "light"
     },
     "output_type": "display_data"
    },
    {
     "data": {
      "text/plain": [
       "<module 'matplotlib.pyplot' from 'C:\\\\Users\\\\GuQiang\\\\Anaconda3\\\\envs\\\\stock_ai\\\\lib\\\\site-packages\\\\matplotlib\\\\pyplot.py'>"
      ]
     },
     "execution_count": 8,
     "metadata": {},
     "output_type": "execute_result"
    }
   ],
   "source": [
    "ploter.plot_keras_history(history)"
   ]
  },
  {
   "cell_type": "code",
   "execution_count": 9,
   "metadata": {
    "ExecuteTime": {
     "end_time": "2019-07-30T02:37:33.311763Z",
     "start_time": "2019-07-30T02:37:33.176148Z"
    }
   },
   "outputs": [
    {
     "name": "stdout",
     "output_type": "stream",
     "text": [
      "298/298 [==============================] - ETA:  - ETA:  - 0s 425us/step\n"
     ]
    },
    {
     "data": {
      "text/plain": [
       "'Test score:1.9757319424776423,Test accuracy:0.3255033559047136'"
      ]
     },
     "execution_count": 9,
     "metadata": {},
     "output_type": "execute_result"
    }
   ],
   "source": [
    "score = model.evaluate(x_test, y_test, batch_size=batch_size, verbose=1)\n",
    "'Test score:{0},Test accuracy:{1}'.format(score[0],score[1])"
   ]
  },
  {
   "cell_type": "code",
   "execution_count": null,
   "metadata": {},
   "outputs": [],
   "source": []
  }
 ],
 "metadata": {
  "kernelspec": {
   "display_name": "stock_ai",
   "language": "python",
   "name": "stock_ai"
  },
  "language_info": {
   "codemirror_mode": {
    "name": "ipython",
    "version": 3
   },
   "file_extension": ".py",
   "mimetype": "text/x-python",
   "name": "python",
   "nbconvert_exporter": "python",
   "pygments_lexer": "ipython3",
   "version": "3.7.3"
  }
 },
 "nbformat": 4,
 "nbformat_minor": 2
}
