{
 "cells": [
  {
   "cell_type": "markdown",
   "metadata": {},
   "source": [
    "#### Keras 分类测试"
   ]
  },
  {
   "cell_type": "code",
   "execution_count": 1,
   "metadata": {
    "ExecuteTime": {
     "end_time": "2019-07-30T02:33:54.084352Z",
     "start_time": "2019-07-30T02:33:49.389978Z"
    }
   },
   "outputs": [
    {
     "name": "stderr",
     "output_type": "stream",
     "text": [
      "Using TensorFlow backend.\n"
     ]
    },
    {
     "name": "stdout",
     "output_type": "stream",
     "text": [
      "PLEASE install TALIB to call these methods\n",
      "PLEASE install TALIB to call these methods\n"
     ]
    }
   ],
   "source": [
    "import sys\n",
    "sys.path.append(\"..\")\n",
    "\n",
    "import keras\n",
    "from keras.models import Sequential\n",
    "from keras.layers import Dense, Dropout, Activation, LSTM\n",
    "from keras.callbacks import EarlyStopping\n",
    "from stock_ai import ploter\n",
    "from examples import get_data_classification"
   ]
  },
  {
   "cell_type": "markdown",
   "metadata": {},
   "source": [
    "#### 获取数据\n",
    "\n",
    "完整数据为601398日线数据+399300日线数据\n",
    "\n",
    "### 测试对第2日的结果进行分类\n",
    "\n",
    "默认取 5 天的数据作为输入数据。第 6 天的数据为结果数据。以此类推。采用 `TimeseriesGenerator` 对数据进行拆分。"
   ]
  },
  {
   "cell_type": "code",
   "execution_count": 2,
   "metadata": {
    "ExecuteTime": {
     "end_time": "2019-07-30T02:33:54.601925Z",
     "start_time": "2019-07-30T02:33:54.087302Z"
    }
   },
   "outputs": [
    {
     "name": "stdout",
     "output_type": "stream",
     "text": [
      "(2679, 5, 12) x_train sequences\n",
      "(2679, 19) y_train sequences\n",
      "(298, 5, 12) x_test sequences\n",
      "(298, 19) y_test sequences\n"
     ]
    }
   ],
   "source": [
    "(x_train, y_train), (x_test, y_test) = get_data_classification()\n",
    "\n",
    "print(x_train.shape, 'x_train sequences')\n",
    "print(y_train.shape, 'y_train sequences')\n",
    "print(x_test.shape, 'x_test sequences')\n",
    "print(y_test.shape, 'y_test sequences')"
   ]
  },
  {
   "cell_type": "markdown",
   "metadata": {},
   "source": [
    "`x` 为所有数据（标准化后）标准化采用的是 `sklearn.preprocessing.MinMaxScaler`"
   ]
  },
  {
   "cell_type": "code",
   "execution_count": 3,
   "metadata": {
    "ExecuteTime": {
     "end_time": "2019-07-30T02:33:54.611898Z",
     "start_time": "2019-07-30T02:33:54.603920Z"
    }
   },
   "outputs": [
    {
     "data": {
      "text/plain": [
       "array([[7.79060181e-02, 3.57777936e-02, 7.00826446e-02, 8.08298532e-04,\n",
       "        9.21014981e-02, 8.92299908e-02, 4.00000000e-01, 2.22222222e-01,\n",
       "        2.85714286e-01, 1.11111111e-01, 1.87297409e-01, 1.85802948e-01],\n",
       "       [0.00000000e+00, 0.00000000e+00, 0.00000000e+00, 0.00000000e+00,\n",
       "        0.00000000e+00, 0.00000000e+00, 0.00000000e+00, 0.00000000e+00,\n",
       "        0.00000000e+00, 0.00000000e+00, 0.00000000e+00, 0.00000000e+00],\n",
       "       [7.22176422e-02, 2.83732840e-01, 5.94214876e-02, 3.12272666e-01,\n",
       "        2.58381748e-01, 2.73364733e-01, 2.00000000e-01, 5.55555556e-01,\n",
       "        2.85714286e-01, 5.55555556e-01, 2.29311511e-01, 2.32559399e-01],\n",
       "       [7.03874691e-01, 8.69194111e-01, 6.61983471e-01, 7.55489694e-01,\n",
       "        1.00000000e+00, 1.00000000e+00, 4.00000000e-01, 8.88888889e-01,\n",
       "        4.28571429e-01, 5.55555556e-01, 1.00000000e+00, 1.00000000e+00],\n",
       "       [1.00000000e+00, 1.00000000e+00, 1.00000000e+00, 1.00000000e+00,\n",
       "        6.70516248e-01, 6.51765760e-01, 1.00000000e+00, 1.00000000e+00,\n",
       "        1.00000000e+00, 1.00000000e+00, 8.15884004e-01, 8.26004937e-01]])"
      ]
     },
     "execution_count": 3,
     "metadata": {},
     "output_type": "execute_result"
    }
   ],
   "source": [
    "x_train[0]"
   ]
  },
  {
   "cell_type": "markdown",
   "metadata": {},
   "source": [
    "`y`为601398的 close.pct_change() 后的数据（onehot编码后）。onehot编码采用 `sklearn.preprocessing.OneHotEncoder`\n",
    "\n",
    ">> 默认 `y` 值保留2位小数。（也就是说正常情况下计算精度在 `-10%~10%` 之间，数据间隔为1%）"
   ]
  },
  {
   "cell_type": "code",
   "execution_count": 4,
   "metadata": {
    "ExecuteTime": {
     "end_time": "2019-07-30T02:33:54.625864Z",
     "start_time": "2019-07-30T02:33:54.614891Z"
    }
   },
   "outputs": [
    {
     "data": {
      "text/plain": [
       "array([0., 0., 0., 0., 0., 0., 0., 0., 0., 0., 1., 0., 0., 0., 0., 0., 0.,\n",
       "       0., 0.])"
      ]
     },
     "execution_count": 4,
     "metadata": {},
     "output_type": "execute_result"
    }
   ],
   "source": [
    "y_train[0]"
   ]
  },
  {
   "cell_type": "code",
   "execution_count": 5,
   "metadata": {
    "ExecuteTime": {
     "end_time": "2019-07-30T02:33:54.636831Z",
     "start_time": "2019-07-30T02:33:54.628870Z"
    }
   },
   "outputs": [],
   "source": [
    "def build_model():\n",
    "    print('Building model...')\n",
    "    model = Sequential()\n",
    "    model.add(LSTM(512, input_shape=x_train[0].shape))\n",
    "    model.add(Activation('relu'))\n",
    "    model.add(Dropout(0.5))\n",
    "    model.add(Dense(num_classes))\n",
    "    model.add(Activation('softmax'))\n",
    "\n",
    "    model.compile(loss='categorical_crossentropy',\n",
    "                  optimizer='adam',\n",
    "                  metrics=['accuracy']\n",
    "                 )\n",
    "    return model"
   ]
  },
  {
   "cell_type": "code",
   "execution_count": 7,
   "metadata": {
    "ExecuteTime": {
     "end_time": "2019-07-30T02:37:32.723180Z",
     "start_time": "2019-07-30T02:33:54.638842Z"
    }
   },
   "outputs": [
    {
     "name": "stdout",
     "output_type": "stream",
     "text": [
      "Building model...\n",
      "Train on 2411 samples, validate on 268 samples\n",
      "Epoch 1/1000\n",
      " - 7s - loss: 1.9577 - acc: 0.3484 - val_loss: 1.8910 - val_acc: 0.3955\n",
      "Epoch 2/1000\n",
      " - 5s - loss: 1.8388 - acc: 0.3633 - val_loss: 1.9063 - val_acc: 0.3955\n"
     ]
    }
   ],
   "source": [
    "batch_size = 32\n",
    "epochs = 1000\n",
    "num_classes = y_train.shape[1]\n",
    "\n",
    "model=build_model()\n",
    "\n",
    "history = model.fit(x_train,\n",
    "                    y_train,\n",
    "                    batch_size=batch_size,\n",
    "                    epochs=epochs,\n",
    "                    verbose=2,\n",
    "                    validation_split=0.1,\n",
    "                    callbacks=[EarlyStopping()])"
   ]
  },
  {
   "cell_type": "code",
   "execution_count": 8,
   "metadata": {
    "ExecuteTime": {
     "end_time": "2019-07-30T02:37:32.755095Z",
     "start_time": "2019-07-30T02:37:32.725175Z"
    }
   },
   "outputs": [
    {
     "name": "stdout",
     "output_type": "stream",
     "text": [
      "_________________________________________________________________\n",
      "Layer (type)                 Output Shape              Param #   \n",
      "=================================================================\n",
      "lstm_2 (LSTM)                (None, 512)               1075200   \n",
      "_________________________________________________________________\n",
      "activation_3 (Activation)    (None, 512)               0         \n",
      "_________________________________________________________________\n",
      "dropout_2 (Dropout)          (None, 512)               0         \n",
      "_________________________________________________________________\n",
      "dense_2 (Dense)              (None, 19)                9747      \n",
      "_________________________________________________________________\n",
      "activation_4 (Activation)    (None, 19)                0         \n",
      "=================================================================\n",
      "Total params: 1,084,947\n",
      "Trainable params: 1,084,947\n",
      "Non-trainable params: 0\n",
      "_________________________________________________________________\n"
     ]
    }
   ],
   "source": [
    "keras.utils.print_summary(model)"
   ]
  },
  {
   "cell_type": "code",
   "execution_count": null,
   "metadata": {
    "ExecuteTime": {
     "end_time": "2019-07-30T02:37:33.174159Z",
     "start_time": "2019-07-30T02:37:32.757090Z"
    }
   },
   "outputs": [],
   "source": [
    "ploter.plot_keras_history(history)"
   ]
  },
  {
   "cell_type": "code",
   "execution_count": 9,
   "metadata": {
    "ExecuteTime": {
     "end_time": "2019-07-30T02:37:33.311763Z",
     "start_time": "2019-07-30T02:37:33.176148Z"
    }
   },
   "outputs": [
    {
     "name": "stdout",
     "output_type": "stream",
     "text": [
      "298/298 [==============================] - ETA:  - ETA:  - ETA:  - 0s 576us/step\n"
     ]
    },
    {
     "data": {
      "text/plain": [
       "'Test score:1.7843725777312414,Test accuracy:0.3791946312725144'"
      ]
     },
     "execution_count": 9,
     "metadata": {},
     "output_type": "execute_result"
    }
   ],
   "source": [
    "score = model.evaluate(x_test, y_test, batch_size=batch_size, verbose=1)\n",
    "'Test score:{0},Test accuracy:{1}'.format(score[0],score[1])"
   ]
  },
  {
   "cell_type": "markdown",
   "metadata": {},
   "source": [
    "### 测试对第5日的结果进行分类"
   ]
  },
  {
   "cell_type": "code",
   "execution_count": 10,
   "metadata": {},
   "outputs": [
    {
     "name": "stdout",
     "output_type": "stream",
     "text": [
      "Building model...\n",
      "Train on 2406 samples, validate on 268 samples\n",
      "Epoch 1/1000\n",
      " - 6s - loss: 2.0190 - acc: 0.3533 - val_loss: 1.8459 - val_acc: 0.4216\n",
      "Epoch 2/1000\n",
      " - 5s - loss: 1.8830 - acc: 0.3716 - val_loss: 1.8501 - val_acc: 0.4216\n",
      "298/298 [==============================] - ETA:  - ETA:  - ETA:  - ETA:  - 0s 699us/step\n"
     ]
    },
    {
     "data": {
      "text/plain": [
       "'Test score:1.8505963215091885\\nTest accuracy:0.37919463087248323'"
      ]
     },
     "execution_count": 10,
     "metadata": {},
     "output_type": "execute_result"
    }
   ],
   "source": [
    "(x_train, y_train), (x_test, y_test) = get_data_classification(skip_Y=5)\n",
    "batch_size = 32\n",
    "epochs = 1000\n",
    "num_classes = y_train.shape[1]\n",
    "\n",
    "model=build_model()\n",
    "\n",
    "history = model.fit(x_train,\n",
    "                    y_train,\n",
    "                    batch_size=batch_size,\n",
    "                    epochs=epochs,\n",
    "                    verbose=2,\n",
    "                    validation_split=0.1,\n",
    "                    callbacks=[EarlyStopping()])\n",
    "score = model.evaluate(x_test, y_test, batch_size=batch_size, verbose=1)\n",
    "'Test score:{0}\\nTest accuracy:{1}'.format(score[0],score[1])"
   ]
  },
  {
   "cell_type": "code",
   "execution_count": null,
   "metadata": {},
   "outputs": [],
   "source": []
  }
 ],
 "metadata": {
  "kernelspec": {
   "display_name": "stock_ai",
   "language": "python",
   "name": "stock_ai"
  },
  "language_info": {
   "codemirror_mode": {
    "name": "ipython",
    "version": 3
   },
   "file_extension": ".py",
   "mimetype": "text/x-python",
   "name": "python",
   "nbconvert_exporter": "python",
   "pygments_lexer": "ipython3",
   "version": "3.7.3"
  }
 },
 "nbformat": 4,
 "nbformat_minor": 4
}
