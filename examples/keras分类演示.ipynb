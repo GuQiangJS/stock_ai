{
 "cells": [
  {
   "cell_type": "markdown",
   "metadata": {},
   "source": [
    "#### Keras 分类测试"
   ]
  },
  {
   "cell_type": "code",
   "execution_count": 1,
   "metadata": {
    "ExecuteTime": {
     "end_time": "2019-07-28T08:32:51.270848Z",
     "start_time": "2019-07-28T08:32:42.586497Z"
    }
   },
   "outputs": [
    {
     "name": "stderr",
     "output_type": "stream",
     "text": [
      "Using TensorFlow backend.\n"
     ]
    },
    {
     "name": "stdout",
     "output_type": "stream",
     "text": [
      "PLEASE install TALIB to call these methods\n",
      "PLEASE install TALIB to call these methods\n"
     ]
    }
   ],
   "source": [
    "import sys\n",
    "sys.path.append(\"..\")\n",
    "\n",
    "import keras\n",
    "from keras.models import Sequential\n",
    "from keras.layers import Dense, Dropout, Activation, LSTM\n",
    "from stock_ai import ploter\n",
    "from examples import get_data_np as get_data"
   ]
  },
  {
   "cell_type": "markdown",
   "metadata": {},
   "source": [
    "##### 获取数据\n",
    "\n",
    "完整数据为601398日线数据+399300日线数据\n",
    "\n",
    "默认取3天的数据作为输入数据。第四天的数据为结果数据。以此类推。采用 `TimeseriesGenerator`"
   ]
  },
  {
   "cell_type": "code",
   "execution_count": 2,
   "metadata": {
    "ExecuteTime": {
     "end_time": "2019-07-28T08:32:51.775068Z",
     "start_time": "2019-07-28T08:32:51.273808Z"
    }
   },
   "outputs": [
    {
     "name": "stdout",
     "output_type": "stream",
     "text": [
      "(2681, 3, 13) x_train sequences\n",
      "(2681, 143) y_train sequences\n",
      "(298, 3, 13) x_test sequences\n",
      "(298, 143) y_test sequences\n"
     ]
    }
   ],
   "source": [
    "(x_train, y_train), (x_test, y_test) = get_data()\n",
    "\n",
    "print(x_train.shape, 'x_train sequences')\n",
    "print(y_train.shape, 'y_train sequences')\n",
    "print(x_test.shape, 'x_test sequences')\n",
    "print(y_test.shape, 'y_test sequences')"
   ]
  },
  {
   "cell_type": "markdown",
   "metadata": {},
   "source": [
    "`x`为去掉601398的close数据后的所有数据（标准化后）\n",
    "\n",
    "标准化采用的是`sklearn.preprocessing.MinMaxScaler`"
   ]
  },
  {
   "cell_type": "code",
   "execution_count": 3,
   "metadata": {
    "ExecuteTime": {
     "end_time": "2019-07-28T08:32:51.786072Z",
     "start_time": "2019-07-28T08:32:51.778061Z"
    }
   },
   "outputs": [
    {
     "data": {
      "text/plain": [
       "array([[1.        , 0.77905702, 0.26801922, 0.        , 0.        ,\n",
       "        0.        , 1.        , 1.        , 1.        , 1.        ,\n",
       "        0.33333333, 1.        , 1.        ],\n",
       "       [0.        , 0.        , 0.        , 0.28284815, 0.        ,\n",
       "        0.        , 0.        , 0.        , 0.        , 0.        ,\n",
       "        0.        , 0.0517744 , 0.04922958],\n",
       "       [0.53830228, 1.        , 1.        , 1.        , 0.        ,\n",
       "        0.        , 0.79255913, 0.97991569, 0.07692308, 0.08333333,\n",
       "        1.        , 0.        , 0.        ]])"
      ]
     },
     "execution_count": 3,
     "metadata": {},
     "output_type": "execute_result"
    }
   ],
   "source": [
    "x_train[0]"
   ]
  },
  {
   "cell_type": "markdown",
   "metadata": {},
   "source": [
    "`y`为601398的close.pct_change()后的数据（onehot编码后）\n",
    "\n",
    "onehot编码采用`sklearn.preprocessing.OneHotEncoder`"
   ]
  },
  {
   "cell_type": "code",
   "execution_count": 4,
   "metadata": {
    "ExecuteTime": {
     "end_time": "2019-07-28T08:32:51.798007Z",
     "start_time": "2019-07-28T08:32:51.789058Z"
    }
   },
   "outputs": [
    {
     "data": {
      "text/plain": [
       "array([0., 0., 0., 0., 0., 0., 0., 0., 0., 0., 0., 0., 0., 0., 0., 0., 0.,\n",
       "       0., 0., 0., 0., 0., 0., 0., 0., 0., 0., 0., 0., 0., 0., 0., 0., 0.,\n",
       "       0., 0., 0., 0., 0., 0., 0., 0., 0., 0., 0., 0., 0., 0., 0., 0., 0.,\n",
       "       0., 0., 0., 0., 0., 0., 0., 0., 0., 0., 0., 0., 0., 0., 0., 0., 0.,\n",
       "       0., 0., 1., 0., 0., 0., 0., 0., 0., 0., 0., 0., 0., 0., 0., 0., 0.,\n",
       "       0., 0., 0., 0., 0., 0., 0., 0., 0., 0., 0., 0., 0., 0., 0., 0., 0.,\n",
       "       0., 0., 0., 0., 0., 0., 0., 0., 0., 0., 0., 0., 0., 0., 0., 0., 0.,\n",
       "       0., 0., 0., 0., 0., 0., 0., 0., 0., 0., 0., 0., 0., 0., 0., 0., 0.,\n",
       "       0., 0., 0., 0., 0., 0., 0.])"
      ]
     },
     "execution_count": 4,
     "metadata": {},
     "output_type": "execute_result"
    }
   ],
   "source": [
    "y_train[0]"
   ]
  },
  {
   "cell_type": "code",
   "execution_count": 5,
   "metadata": {
    "ExecuteTime": {
     "end_time": "2019-07-28T08:38:31.690588Z",
     "start_time": "2019-07-28T08:32:51.802995Z"
    }
   },
   "outputs": [
    {
     "name": "stdout",
     "output_type": "stream",
     "text": [
      "Building model...\n",
      "WARNING:tensorflow:From C:\\Users\\GuQiang\\Anaconda3\\envs\\stock_ai\\lib\\site-packages\\tensorflow\\python\\framework\\op_def_library.py:263: colocate_with (from tensorflow.python.framework.ops) is deprecated and will be removed in a future version.\n",
      "Instructions for updating:\n",
      "Colocations handled automatically by placer.\n"
     ]
    },
    {
     "name": "stderr",
     "output_type": "stream",
     "text": [
      "QUANTAXIS>> From C:\\Users\\GuQiang\\Anaconda3\\envs\\stock_ai\\lib\\site-packages\\tensorflow\\python\\framework\\op_def_library.py:263: colocate_with (from tensorflow.python.framework.ops) is deprecated and will be removed in a future version.\n",
      "Instructions for updating:\n",
      "Colocations handled automatically by placer.\n"
     ]
    },
    {
     "name": "stdout",
     "output_type": "stream",
     "text": [
      "WARNING:tensorflow:From C:\\Users\\GuQiang\\Anaconda3\\envs\\stock_ai\\lib\\site-packages\\keras\\backend\\tensorflow_backend.py:3445: calling dropout (from tensorflow.python.ops.nn_ops) with keep_prob is deprecated and will be removed in a future version.\n",
      "Instructions for updating:\n",
      "Please use `rate` instead of `keep_prob`. Rate should be set to `rate = 1 - keep_prob`.\n"
     ]
    },
    {
     "name": "stderr",
     "output_type": "stream",
     "text": [
      "QUANTAXIS>> From C:\\Users\\GuQiang\\Anaconda3\\envs\\stock_ai\\lib\\site-packages\\keras\\backend\\tensorflow_backend.py:3445: calling dropout (from tensorflow.python.ops.nn_ops) with keep_prob is deprecated and will be removed in a future version.\n",
      "Instructions for updating:\n",
      "Please use `rate` instead of `keep_prob`. Rate should be set to `rate = 1 - keep_prob`.\n"
     ]
    },
    {
     "name": "stdout",
     "output_type": "stream",
     "text": [
      "WARNING:tensorflow:From C:\\Users\\GuQiang\\Anaconda3\\envs\\stock_ai\\lib\\site-packages\\tensorflow\\python\\ops\\math_ops.py:3066: to_int32 (from tensorflow.python.ops.math_ops) is deprecated and will be removed in a future version.\n",
      "Instructions for updating:\n",
      "Use tf.cast instead.\n"
     ]
    },
    {
     "name": "stderr",
     "output_type": "stream",
     "text": [
      "QUANTAXIS>> From C:\\Users\\GuQiang\\Anaconda3\\envs\\stock_ai\\lib\\site-packages\\tensorflow\\python\\ops\\math_ops.py:3066: to_int32 (from tensorflow.python.ops.math_ops) is deprecated and will be removed in a future version.\n",
      "Instructions for updating:\n",
      "Use tf.cast instead.\n"
     ]
    },
    {
     "name": "stdout",
     "output_type": "stream",
     "text": [
      "Train on 2412 samples, validate on 269 samples\n",
      "Epoch 1/100\n",
      " - 4s - loss: 4.2925 - acc: 0.0858 - val_loss: 3.6529 - val_acc: 0.1301\n",
      "Epoch 2/100\n",
      " - 3s - loss: 4.0173 - acc: 0.1028 - val_loss: 3.5333 - val_acc: 0.1301\n",
      "Epoch 3/100\n",
      " - 3s - loss: 3.9879 - acc: 0.1024 - val_loss: 3.5773 - val_acc: 0.1301\n",
      "Epoch 4/100\n",
      " - 3s - loss: 3.9664 - acc: 0.0945 - val_loss: 3.5942 - val_acc: 0.1301\n",
      "Epoch 5/100\n",
      " - 4s - loss: 3.9496 - acc: 0.0978 - val_loss: 3.5984 - val_acc: 0.1301\n",
      "Epoch 6/100\n",
      " - 4s - loss: 3.9382 - acc: 0.1007 - val_loss: 3.5686 - val_acc: 0.1301\n",
      "Epoch 7/100\n",
      " - 4s - loss: 3.9212 - acc: 0.1007 - val_loss: 3.5881 - val_acc: 0.1301\n",
      "Epoch 8/100\n",
      " - 3s - loss: 3.9110 - acc: 0.1016 - val_loss: 3.5899 - val_acc: 0.1301\n",
      "Epoch 9/100\n",
      " - 3s - loss: 3.8895 - acc: 0.1041 - val_loss: 3.5871 - val_acc: 0.1301\n",
      "Epoch 10/100\n",
      " - 3s - loss: 3.8692 - acc: 0.1003 - val_loss: 3.6073 - val_acc: 0.1301\n",
      "Epoch 11/100\n",
      " - 3s - loss: 3.8499 - acc: 0.1078 - val_loss: 3.6049 - val_acc: 0.1301\n",
      "Epoch 12/100\n",
      " - 4s - loss: 3.8190 - acc: 0.1061 - val_loss: 3.5868 - val_acc: 0.1264\n",
      "Epoch 13/100\n",
      " - 4s - loss: 3.7917 - acc: 0.1086 - val_loss: 3.6256 - val_acc: 0.1264\n",
      "Epoch 14/100\n",
      " - 4s - loss: 3.7631 - acc: 0.1036 - val_loss: 3.6406 - val_acc: 0.1264\n",
      "Epoch 15/100\n",
      " - 4s - loss: 3.7429 - acc: 0.1016 - val_loss: 3.6440 - val_acc: 0.1190\n",
      "Epoch 16/100\n",
      " - 3s - loss: 3.6968 - acc: 0.1057 - val_loss: 3.6389 - val_acc: 0.1115\n",
      "Epoch 17/100\n",
      " - 3s - loss: 3.6675 - acc: 0.1090 - val_loss: 3.6532 - val_acc: 0.1338\n",
      "Epoch 18/100\n",
      " - 3s - loss: 3.6357 - acc: 0.1090 - val_loss: 3.6454 - val_acc: 0.1264\n",
      "Epoch 19/100\n",
      " - 4s - loss: 3.5987 - acc: 0.1186 - val_loss: 3.6803 - val_acc: 0.1152\n",
      "Epoch 20/100\n",
      " - 3s - loss: 3.5520 - acc: 0.1115 - val_loss: 3.7106 - val_acc: 0.1338\n",
      "Epoch 21/100\n",
      " - 3s - loss: 3.5200 - acc: 0.1219 - val_loss: 3.7038 - val_acc: 0.1041\n",
      "Epoch 22/100\n",
      " - 3s - loss: 3.4621 - acc: 0.1248 - val_loss: 3.6988 - val_acc: 0.1078\n",
      "Epoch 23/100\n",
      " - 3s - loss: 3.4226 - acc: 0.1273 - val_loss: 3.7260 - val_acc: 0.1301\n",
      "Epoch 24/100\n",
      " - 3s - loss: 3.3724 - acc: 0.1323 - val_loss: 3.7072 - val_acc: 0.1190\n",
      "Epoch 25/100\n",
      " - 3s - loss: 3.2947 - acc: 0.1422 - val_loss: 3.7610 - val_acc: 0.1078\n",
      "Epoch 26/100\n",
      " - 3s - loss: 3.2528 - acc: 0.1509 - val_loss: 3.7556 - val_acc: 0.1338\n",
      "Epoch 27/100\n",
      " - 3s - loss: 3.2135 - acc: 0.1484 - val_loss: 3.7731 - val_acc: 0.1004\n",
      "Epoch 28/100\n",
      " - 3s - loss: 3.1426 - acc: 0.1704 - val_loss: 3.7940 - val_acc: 0.1301\n",
      "Epoch 29/100\n",
      " - 3s - loss: 3.0861 - acc: 0.1741 - val_loss: 3.8161 - val_acc: 0.1115\n",
      "Epoch 30/100\n",
      " - 3s - loss: 3.0325 - acc: 0.1799 - val_loss: 3.8601 - val_acc: 0.1152\n",
      "Epoch 31/100\n",
      " - 3s - loss: 2.9684 - acc: 0.1907 - val_loss: 3.8615 - val_acc: 0.1004\n",
      "Epoch 32/100\n",
      " - 3s - loss: 2.9059 - acc: 0.2164 - val_loss: 3.8797 - val_acc: 0.1004\n",
      "Epoch 33/100\n",
      " - 3s - loss: 2.8508 - acc: 0.2231 - val_loss: 3.9277 - val_acc: 0.1004\n",
      "Epoch 34/100\n",
      " - 3s - loss: 2.7854 - acc: 0.2496 - val_loss: 3.9593 - val_acc: 0.1004\n",
      "Epoch 35/100\n",
      " - 3s - loss: 2.7109 - acc: 0.2579 - val_loss: 3.9649 - val_acc: 0.1078\n",
      "Epoch 36/100\n",
      " - 3s - loss: 2.6666 - acc: 0.2604 - val_loss: 3.9690 - val_acc: 0.0929\n",
      "Epoch 37/100\n",
      " - 3s - loss: 2.6053 - acc: 0.2848 - val_loss: 4.0221 - val_acc: 0.0892\n",
      "Epoch 38/100\n",
      " - 3s - loss: 2.5530 - acc: 0.3002 - val_loss: 4.0554 - val_acc: 0.0892\n",
      "Epoch 39/100\n",
      " - 3s - loss: 2.4651 - acc: 0.3213 - val_loss: 4.0789 - val_acc: 0.1004\n",
      "Epoch 40/100\n",
      " - 3s - loss: 2.3958 - acc: 0.3391 - val_loss: 4.0811 - val_acc: 0.1004\n",
      "Epoch 41/100\n",
      " - 3s - loss: 2.3427 - acc: 0.3495 - val_loss: 4.0874 - val_acc: 0.0967\n",
      "Epoch 42/100\n",
      " - 3s - loss: 2.2581 - acc: 0.3881 - val_loss: 4.1217 - val_acc: 0.0781\n",
      "Epoch 43/100\n",
      " - 3s - loss: 2.1868 - acc: 0.4067 - val_loss: 4.1588 - val_acc: 0.0967\n",
      "Epoch 44/100\n",
      " - 3s - loss: 2.1314 - acc: 0.4192 - val_loss: 4.2026 - val_acc: 0.0818\n",
      "Epoch 45/100\n",
      " - 3s - loss: 2.0586 - acc: 0.4432 - val_loss: 4.2446 - val_acc: 0.0892\n",
      "Epoch 46/100\n",
      " - 4s - loss: 2.0166 - acc: 0.4436 - val_loss: 4.2722 - val_acc: 0.0855\n",
      "Epoch 47/100\n",
      " - 3s - loss: 1.9410 - acc: 0.4627 - val_loss: 4.3143 - val_acc: 0.0855\n",
      "Epoch 48/100\n",
      " - 4s - loss: 1.8618 - acc: 0.4959 - val_loss: 4.3512 - val_acc: 0.0929\n",
      "Epoch 49/100\n",
      " - 4s - loss: 1.8113 - acc: 0.5095 - val_loss: 4.3790 - val_acc: 0.0669\n",
      "Epoch 50/100\n",
      " - 4s - loss: 1.7778 - acc: 0.5104 - val_loss: 4.4311 - val_acc: 0.0855\n",
      "Epoch 51/100\n",
      " - 3s - loss: 1.6926 - acc: 0.5348 - val_loss: 4.3961 - val_acc: 0.0892\n",
      "Epoch 52/100\n",
      " - 3s - loss: 1.6445 - acc: 0.5527 - val_loss: 4.4214 - val_acc: 0.0929\n",
      "Epoch 53/100\n",
      " - 3s - loss: 1.5920 - acc: 0.5767 - val_loss: 4.4698 - val_acc: 0.0818\n",
      "Epoch 54/100\n",
      " - 3s - loss: 1.5406 - acc: 0.5842 - val_loss: 4.5190 - val_acc: 0.0706\n",
      "Epoch 55/100\n",
      " - 3s - loss: 1.5127 - acc: 0.5846 - val_loss: 4.5817 - val_acc: 0.0818\n",
      "Epoch 56/100\n",
      " - 3s - loss: 1.4448 - acc: 0.6177 - val_loss: 4.5752 - val_acc: 0.0706\n",
      "Epoch 57/100\n",
      " - 4s - loss: 1.3704 - acc: 0.6364 - val_loss: 4.6080 - val_acc: 0.0818\n",
      "Epoch 58/100\n",
      " - 3s - loss: 1.3558 - acc: 0.6281 - val_loss: 4.6858 - val_acc: 0.0669\n",
      "Epoch 59/100\n",
      " - 4s - loss: 1.3368 - acc: 0.6397 - val_loss: 4.7179 - val_acc: 0.0632\n",
      "Epoch 60/100\n",
      " - 4s - loss: 1.2508 - acc: 0.6675 - val_loss: 4.7378 - val_acc: 0.0743\n",
      "Epoch 61/100\n",
      " - 3s - loss: 1.1986 - acc: 0.6899 - val_loss: 4.7477 - val_acc: 0.0558\n",
      "Epoch 62/100\n",
      " - 3s - loss: 1.1828 - acc: 0.6886 - val_loss: 4.8283 - val_acc: 0.0632\n",
      "Epoch 63/100\n",
      " - 3s - loss: 1.1267 - acc: 0.6969 - val_loss: 4.8931 - val_acc: 0.0669\n",
      "Epoch 64/100\n",
      " - 3s - loss: 1.0992 - acc: 0.7197 - val_loss: 4.9126 - val_acc: 0.0595\n",
      "Epoch 65/100\n",
      " - 3s - loss: 1.0321 - acc: 0.7405 - val_loss: 4.9707 - val_acc: 0.0743\n",
      "Epoch 66/100\n",
      " - 3s - loss: 1.0159 - acc: 0.7359 - val_loss: 4.9802 - val_acc: 0.0743\n",
      "Epoch 67/100\n",
      " - 3s - loss: 0.9817 - acc: 0.7446 - val_loss: 5.0106 - val_acc: 0.0706\n",
      "Epoch 68/100\n",
      " - 3s - loss: 0.9554 - acc: 0.7475 - val_loss: 5.0918 - val_acc: 0.0743\n",
      "Epoch 69/100\n",
      " - 3s - loss: 0.9278 - acc: 0.7658 - val_loss: 5.0939 - val_acc: 0.0669\n",
      "Epoch 70/100\n",
      " - 3s - loss: 0.8960 - acc: 0.7732 - val_loss: 5.1494 - val_acc: 0.0520\n",
      "Epoch 71/100\n",
      " - 3s - loss: 0.8839 - acc: 0.7790 - val_loss: 5.1312 - val_acc: 0.0558\n",
      "Epoch 72/100\n",
      " - 3s - loss: 0.8124 - acc: 0.8018 - val_loss: 5.1855 - val_acc: 0.0595\n",
      "Epoch 73/100\n",
      " - 4s - loss: 0.8036 - acc: 0.7939 - val_loss: 5.1843 - val_acc: 0.0558\n",
      "Epoch 74/100\n",
      " - 4s - loss: 0.7824 - acc: 0.8043 - val_loss: 5.2682 - val_acc: 0.0595\n",
      "Epoch 75/100\n",
      " - 3s - loss: 0.7533 - acc: 0.8093 - val_loss: 5.3208 - val_acc: 0.0483\n",
      "Epoch 76/100\n",
      " - 3s - loss: 0.7221 - acc: 0.8167 - val_loss: 5.3514 - val_acc: 0.0595\n",
      "Epoch 77/100\n",
      " - 4s - loss: 0.7187 - acc: 0.8126 - val_loss: 5.3781 - val_acc: 0.0669\n",
      "Epoch 78/100\n",
      " - 3s - loss: 0.7084 - acc: 0.8184 - val_loss: 5.4320 - val_acc: 0.0520\n",
      "Epoch 79/100\n",
      " - 4s - loss: 0.6644 - acc: 0.8362 - val_loss: 5.4484 - val_acc: 0.0483\n",
      "Epoch 80/100\n",
      " - 3s - loss: 0.6670 - acc: 0.8267 - val_loss: 5.5128 - val_acc: 0.0595\n",
      "Epoch 81/100\n",
      " - 3s - loss: 0.6395 - acc: 0.8408 - val_loss: 5.4646 - val_acc: 0.0558\n",
      "Epoch 82/100\n",
      " - 4s - loss: 0.5954 - acc: 0.8611 - val_loss: 5.5229 - val_acc: 0.0595\n",
      "Epoch 83/100\n",
      " - 3s - loss: 0.5989 - acc: 0.8524 - val_loss: 5.5662 - val_acc: 0.0483\n",
      "Epoch 84/100\n",
      " - 3s - loss: 0.5736 - acc: 0.8611 - val_loss: 5.6048 - val_acc: 0.0595\n",
      "Epoch 85/100\n",
      " - 3s - loss: 0.5562 - acc: 0.8628 - val_loss: 5.6250 - val_acc: 0.0632\n",
      "Epoch 86/100\n",
      " - 3s - loss: 0.5310 - acc: 0.8769 - val_loss: 5.7165 - val_acc: 0.0558\n",
      "Epoch 87/100\n",
      " - 3s - loss: 0.5410 - acc: 0.8566 - val_loss: 5.7750 - val_acc: 0.0483\n",
      "Epoch 88/100\n",
      " - 3s - loss: 0.5210 - acc: 0.8686 - val_loss: 5.8010 - val_acc: 0.0558\n",
      "Epoch 89/100\n",
      " - 3s - loss: 0.4928 - acc: 0.8806 - val_loss: 5.7809 - val_acc: 0.0520\n",
      "Epoch 90/100\n",
      " - 3s - loss: 0.4996 - acc: 0.8802 - val_loss: 5.8198 - val_acc: 0.0520\n",
      "Epoch 91/100\n",
      " - 3s - loss: 0.4685 - acc: 0.8798 - val_loss: 5.8526 - val_acc: 0.0520\n",
      "Epoch 92/100\n",
      " - 3s - loss: 0.4593 - acc: 0.8914 - val_loss: 5.9332 - val_acc: 0.0558\n",
      "Epoch 93/100\n",
      " - 3s - loss: 0.4433 - acc: 0.9005 - val_loss: 5.9806 - val_acc: 0.0483\n",
      "Epoch 94/100\n",
      " - 3s - loss: 0.4493 - acc: 0.8856 - val_loss: 6.0363 - val_acc: 0.0558\n",
      "Epoch 95/100\n",
      " - 3s - loss: 0.4434 - acc: 0.8889 - val_loss: 5.9639 - val_acc: 0.0669\n",
      "Epoch 96/100\n",
      " - 3s - loss: 0.4151 - acc: 0.8943 - val_loss: 5.9784 - val_acc: 0.0558\n"
     ]
    },
    {
     "name": "stdout",
     "output_type": "stream",
     "text": [
      "Epoch 97/100\n",
      " - 3s - loss: 0.4189 - acc: 0.8959 - val_loss: 6.0278 - val_acc: 0.0558\n",
      "Epoch 98/100\n",
      " - 3s - loss: 0.4042 - acc: 0.8910 - val_loss: 6.0613 - val_acc: 0.0706\n",
      "Epoch 99/100\n",
      " - 3s - loss: 0.4019 - acc: 0.9017 - val_loss: 6.0635 - val_acc: 0.0558\n",
      "Epoch 100/100\n",
      " - 3s - loss: 0.3803 - acc: 0.9017 - val_loss: 6.0633 - val_acc: 0.0595\n"
     ]
    }
   ],
   "source": [
    "batch_size = 32\n",
    "epochs = 100\n",
    "num_classes = y_train.shape[1]\n",
    "\n",
    "print('Building model...')\n",
    "model = Sequential()\n",
    "model.add(LSTM(512, input_shape=x_train[0].shape))\n",
    "model.add(Activation('relu'))\n",
    "model.add(Dropout(0.5))\n",
    "model.add(Dense(num_classes))\n",
    "model.add(Activation('softmax'))\n",
    "\n",
    "model.compile(loss='categorical_crossentropy',\n",
    "              optimizer='adam',\n",
    "              metrics=['accuracy'])\n",
    "\n",
    "history = model.fit(x_train,\n",
    "                    y_train,\n",
    "                    batch_size=batch_size,\n",
    "                    epochs=epochs,\n",
    "                    verbose=2,\n",
    "                    validation_split=0.1)"
   ]
  },
  {
   "cell_type": "code",
   "execution_count": 6,
   "metadata": {
    "ExecuteTime": {
     "end_time": "2019-07-28T08:38:31.717515Z",
     "start_time": "2019-07-28T08:38:31.692586Z"
    }
   },
   "outputs": [
    {
     "name": "stdout",
     "output_type": "stream",
     "text": [
      "_________________________________________________________________\n",
      "Layer (type)                 Output Shape              Param #   \n",
      "=================================================================\n",
      "lstm_1 (LSTM)                (None, 512)               1077248   \n",
      "_________________________________________________________________\n",
      "activation_1 (Activation)    (None, 512)               0         \n",
      "_________________________________________________________________\n",
      "dropout_1 (Dropout)          (None, 512)               0         \n",
      "_________________________________________________________________\n",
      "dense_1 (Dense)              (None, 143)               73359     \n",
      "_________________________________________________________________\n",
      "activation_2 (Activation)    (None, 143)               0         \n",
      "=================================================================\n",
      "Total params: 1,150,607\n",
      "Trainable params: 1,150,607\n",
      "Non-trainable params: 0\n",
      "_________________________________________________________________\n"
     ]
    }
   ],
   "source": [
    "keras.utils.print_summary(model)"
   ]
  },
  {
   "cell_type": "code",
   "execution_count": 7,
   "metadata": {
    "ExecuteTime": {
     "end_time": "2019-07-28T08:38:32.201761Z",
     "start_time": "2019-07-28T08:38:31.719511Z"
    }
   },
   "outputs": [
    {
     "data": {
      "image/png": "[encoded data removed]",
      "text/plain": [
       "<Figure size 720x720 with 2 Axes>"
      ]
     },
     "metadata": {
      "needs_background": "light"
     },
     "output_type": "display_data"
    },
    {
     "data": {
      "text/plain": [
       "<module 'matplotlib.pyplot' from 'C:\\\\Users\\\\GuQiang\\\\Anaconda3\\\\envs\\\\stock_ai\\\\lib\\\\site-packages\\\\matplotlib\\\\pyplot.py'>"
      ]
     },
     "execution_count": 7,
     "metadata": {},
     "output_type": "execute_result"
    }
   ],
   "source": [
    "ploter.plot_keras_history(history)"
   ]
  },
  {
   "cell_type": "code",
   "execution_count": 8,
   "metadata": {
    "ExecuteTime": {
     "end_time": "2019-07-28T08:38:32.304451Z",
     "start_time": "2019-07-28T08:38:32.203721Z"
    }
   },
   "outputs": [
    {
     "name": "stdout",
     "output_type": "stream",
     "text": [
      "298/298 [==============================] - ETA:  - ETA:  - 0s 301us/step\n",
      "Test score: 7.843425673926436\n",
      "Test accuracy: 0.05033557051980255\n"
     ]
    }
   ],
   "source": [
    "score = model.evaluate(x_test, y_test, batch_size=batch_size, verbose=1)\n",
    "print('Test score:', score[0])\n",
    "print('Test accuracy:', score[1])"
   ]
  },
  {
   "cell_type": "code",
   "execution_count": null,
   "metadata": {},
   "outputs": [],
   "source": []
  }
 ],
 "metadata": {
  "kernelspec": {
   "display_name": "stock_ai",
   "language": "python",
   "name": "stock_ai"
  },
  "language_info": {
   "codemirror_mode": {
    "name": "ipython",
    "version": 3
   },
   "file_extension": ".py",
   "mimetype": "text/x-python",
   "name": "python",
   "nbconvert_exporter": "python",
   "pygments_lexer": "ipython3",
   "version": "3.7.3"
  }
 },
 "nbformat": 4,
 "nbformat_minor": 2
}
